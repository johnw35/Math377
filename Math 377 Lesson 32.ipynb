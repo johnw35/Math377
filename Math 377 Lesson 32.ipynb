{
 "cells": [
  {
   "cell_type": "code",
   "execution_count": 1,
   "metadata": {},
   "outputs": [],
   "source": [
    "from datascience import *\n",
    "import numpy as np\n",
    "from math import *\n",
    "from scipy import stats\n",
    "import matplotlib.pyplot as plt\n",
    "%matplotlib inline"
   ]
  },
  {
   "cell_type": "markdown",
   "metadata": {},
   "source": [
    "## Lesson 32: Likelihood Ratio Tests"
   ]
  },
  {
   "cell_type": "markdown",
   "metadata": {},
   "source": [
    "Last time, we introduced Likelihood Ratio tests. Recall that the point of a likelihood ratio test is to compare the likelihood function under a hypothesized value of the parameter with the liklihood function at its maximum. Instead of looking at the ratio $\\Lambda$ itself, we often consider $-2\\log \\Lambda$ instead, since it has a handy distribution. \n",
    "\n",
    "### Example 1: Exponential Distribution\n",
    "\n",
    "Suppose $X_1,X_2,...,X_n$ is an iid sequence of random variables from the exponential distribution with unknown parameter $\\lambda$. Recall that the maximum likelihood estimate of $\\lambda$ is $1\\over\\bar{X}$. We collect a random sample of size 20 and want to test the hypothesis $H_0: \\lambda = 3$ vs $H_1: \\lambda \\neq 3$. Using the data in the python box below, conduct a likelihood ratio test on this hypothesis.  "
   ]
  },
  {
   "cell_type": "code",
   "execution_count": 2,
   "metadata": {},
   "outputs": [],
   "source": [
    "my_data=np.array([0.18,0.277,0.105,0.126,0.225,0.026,0.123,0.423,0.006,0.281,0.050,0.692,0.105,0.275,0.346,0.079,0.045,0.222,0.063,0.281])"
   ]
  },
  {
   "cell_type": "markdown",
   "metadata": {},
   "source": [
    "$f(x) = \\lambda e^{-\\lambda x}$\n",
    "\n",
    "$l(\\lambda|x) = \\sum( log(f(x)) ) = \\sum( log(\\lambda e^{-\\lambda x}) )$\n",
    "\n",
    "$\\sum( log(\\lambda) + log(e^{-\\lambda x_{i}}) ) $\n",
    "\n",
    "$\\sum( log(\\lambda)) + \\sum( -\\lambda x_{i})  $\n",
    "\n",
    "$n log(\\lambda) -\\lambda \\sum( x_{i})  $\n",
    "\n",
    "For $H_{0}$ : $l(\\lambda|x) = 20 log(3) - 3 \\sum( x_{i})$\n",
    "\n",
    "For $H_{1}$ : $l(\\lambda|x) = 20 log(\\frac{1}{\\bar{X}}) - \\frac{1}{\\bar{X}} \\sum( x_{i})$\n",
    "\n",
    "$l(\\lambda|x) = 20 log(\\frac{1}{\\bar{X}}) - n = 20 log(\\frac{1}{\\bar{X}}) - 20$"
   ]
  },
  {
   "cell_type": "code",
   "execution_count": 3,
   "metadata": {},
   "outputs": [
    {
     "data": {
      "text/plain": [
       "4.719222360188461"
      ]
     },
     "execution_count": 3,
     "metadata": {},
     "output_type": "execute_result"
    }
   ],
   "source": [
    "xbar = np.mean(my_data)\n",
    "xsum = sum(my_data)\n",
    "test_stat = 2*(20*log(1/xbar) - 20 - 20*log(3)+3*xsum)\n",
    "test_stat\n"
   ]
  },
  {
   "cell_type": "code",
   "execution_count": 4,
   "metadata": {},
   "outputs": [
    {
     "name": "stdout",
     "output_type": "stream",
     "text": [
      "5.089058524173028\n",
      "p =  0.029827229194775096\n"
     ]
    }
   ],
   "source": [
    "#Now we want the probability of my data or more extreme using a chi distribution.\n",
    "llambda = 1/xbar\n",
    "print(llambda)\n",
    "p = 1-stats.chi2.cdf(test_stat,1)\n",
    "print('p = ',p)"
   ]
  },
  {
   "cell_type": "markdown",
   "metadata": {},
   "source": [
    "Since p is less than 5%, we reject the null."
   ]
  },
  {
   "cell_type": "markdown",
   "metadata": {},
   "source": [
    "#### Power\n",
    "\n",
    "Suppose that the true value of $\\lambda$ is 5. Let's determine the power of this test. Let $n=20$. Then determine the power if $n=50$. Remember, power is the probability of correctly rejecting the null hypothesis. "
   ]
  },
  {
   "cell_type": "markdown",
   "metadata": {},
   "source": [
    "First, find what value of $-2 \\log \\Lambda$ would lead you to reject $H_0$. This is sometimes called the critical value. "
   ]
  },
  {
   "cell_type": "code",
   "execution_count": 5,
   "metadata": {},
   "outputs": [
    {
     "data": {
      "text/plain": [
       "3.841458820694124"
      ]
     },
     "execution_count": 5,
     "metadata": {},
     "output_type": "execute_result"
    }
   ],
   "source": [
    "#This finds where 95% of the area is to the left, or 5% is to the right\n",
    "#1 degree of freedom because we are only estimating 1 thing, lambda\n",
    "crit = stats.chi2.ppf(0.95,1)\n",
    "crit"
   ]
  },
  {
   "cell_type": "markdown",
   "metadata": {},
   "source": [
    "Next, obtain the power. Obtain a sample of size 20 from the true population and obtain the value of $-2\\log \\Lambda$ for this sample. Repeat many times and determine how often you reject the null hypothesis. "
   ]
  },
  {
   "cell_type": "code",
   "execution_count": 6,
   "metadata": {},
   "outputs": [
    {
     "data": {
      "text/plain": [
       "0.5982"
      ]
     },
     "execution_count": 6,
     "metadata": {},
     "output_type": "execute_result"
    }
   ],
   "source": [
    "#Sample from an exponential with lambda = 5\n",
    "T = []\n",
    "EXP = stats.expon(scale = 1/5)\n",
    "for n in np.arange(10000):\n",
    "    A = EXP.rvs(size = 20)\n",
    "    xbar = np.mean(A)\n",
    "    xsum = sum(A)\n",
    "    T = np.append(T,2*(20*log(1/xbar) - 20 - 20*log(3)+3*xsum))\n",
    "    \n",
    "power = sum(T>crit)/10000\n",
    "power"
   ]
  },
  {
   "cell_type": "markdown",
   "metadata": {},
   "source": [
    "Repeat for a sample size of 50. What do you expect to happen to power? "
   ]
  },
  {
   "cell_type": "code",
   "execution_count": 7,
   "metadata": {},
   "outputs": [
    {
     "data": {
      "text/plain": [
       "0.9508"
      ]
     },
     "execution_count": 7,
     "metadata": {},
     "output_type": "execute_result"
    }
   ],
   "source": [
    "T = []\n",
    "EXP = stats.expon(scale = 1/5)\n",
    "for n in np.arange(10000):\n",
    "    A = EXP.rvs(size = 50)\n",
    "    xbar = np.mean(A)\n",
    "    xsum = sum(A)\n",
    "    T = np.append(T,2*(50*log(1/xbar) - 50 - 50*log(3)+3*xsum))\n",
    "    \n",
    "power = sum(T>crit)/10000\n",
    "power"
   ]
  },
  {
   "cell_type": "markdown",
   "metadata": {},
   "source": [
    "We would expect exactly what happens, that our power increases with sample size. We are correct more often because we have more information."
   ]
  },
  {
   "cell_type": "markdown",
   "metadata": {},
   "source": [
    "### A Different Test\n",
    "\n",
    "We've explored hypothesis tests in this class before. Taking advantage of our computing power, we don't have to rely on test statistics with asymptotic distributions. Let's conduct a more direct hypothesis test using simulation. Recall:\n",
    "\n",
    "$$\n",
    "H_0: \\lambda = 3\n",
    "$$\n",
    "\n",
    "$$\n",
    "H_1: \\lambda \\neq 3\n",
    "$$\n",
    "\n",
    "Pick a different test statistic. Obtain an empirical distribution of that test statistic under $H_0$. Next, find the $p$-value by determining how often this test statistic is at or further away from the test statistic derived from the sample. Remember that this is a two-sided test. "
   ]
  },
  {
   "cell_type": "code",
   "execution_count": 33,
   "metadata": {},
   "outputs": [
    {
     "data": {
      "text/plain": [
       "0.019399999999999973"
      ]
     },
     "execution_count": 33,
     "metadata": {},
     "output_type": "execute_result"
    }
   ],
   "source": [
    "#xbar\n",
    "T = []\n",
    "A = stats.expon(scale = 1/3)\n",
    "for n in np.arange(10000):\n",
    "    X = A.rvs(size= 20)\n",
    "    T = np.append(T,np.mean(X))\n",
    "    \n",
    "p = sum(T>np.mean(my_data))/10000\n",
    "1-p"
   ]
  },
  {
   "cell_type": "markdown",
   "metadata": {},
   "source": [
    "How did the $p$-value compare to the LRT $p$-value? I wonder how the power of this test compares to our LRT. "
   ]
  },
  {
   "cell_type": "markdown",
   "metadata": {},
   "source": [
    "We find that our sample data is on the low end, which could cause us to reject for a two-sided test. Only 1.94% of the time will a $\\lambda$=3 yield a mean for a sample of size 20 that matches our data or more extreme. We therefore reject the null because 1.94<2.5. \n",
    "\n",
    "The LRT is more certain even though it has a value of 2%, because we reject at 5% for a one-sided test."
   ]
  },
  {
   "cell_type": "markdown",
   "metadata": {},
   "source": [
    "#### Power\n",
    "\n",
    "Let's figure out the power of this test. First, determine for what values of the test statistic would lead us to reject $H_0$. These values can be referred to as your rejection region. "
   ]
  },
  {
   "cell_type": "code",
   "execution_count": 46,
   "metadata": {},
   "outputs": [
    {
     "name": "stdout",
     "output_type": "stream",
     "text": [
      "0.9631\n",
      "0.9853\n",
      "0.19135427061025004\n",
      "0.47635427061025004\n"
     ]
    }
   ],
   "source": [
    "Xbarbar = np.mean(T)\n",
    "print(sum( (Xbarbar+.1425) > T )/10000)  \n",
    "print(sum(T > (Xbarbar-.1425) )/10000) \n",
    "rejlow = Xbarbar-.1425\n",
    "rejhigh = Xbarbar+.1425\n",
    "print (rejlow)\n",
    "print (rejhigh)\n",
    "#Note that even though xbar should have a normal distribution, it is definitely not symmetric at a sample size of 20"
   ]
  },
  {
   "cell_type": "markdown",
   "metadata": {},
   "source": [
    "Now, determine the power of this test. Like in the LRT case, obtain a sample of size 20 and obtain the test statistic. Repeat many times and see how often your test statistic is in your rejection region. "
   ]
  },
  {
   "cell_type": "code",
   "execution_count": 47,
   "metadata": {},
   "outputs": [
    {
     "data": {
      "text/plain": [
       "0.4637"
      ]
     },
     "execution_count": 47,
     "metadata": {},
     "output_type": "execute_result"
    }
   ],
   "source": [
    "T = []\n",
    "EXP = stats.expon(scale = 1/5)\n",
    "for n in np.arange(10000):\n",
    "    A = EXP.rvs(size = 20)\n",
    "    xbar = np.mean(A)\n",
    "    T = np.append(T,xbar)\n",
    "    \n",
    "power = sum(T<rejlow)/10000 + sum(T>rejhigh)/10000\n",
    "power"
   ]
  },
  {
   "cell_type": "markdown",
   "metadata": {},
   "source": [
    "Repeat for a sample size of 50. Note that you will have to obtain new critical values in order to do this.  "
   ]
  },
  {
   "cell_type": "code",
   "execution_count": 49,
   "metadata": {},
   "outputs": [],
   "source": [
    "T = []\n",
    "A = stats.expon(scale = 1/3)\n",
    "for n in np.arange(10000):\n",
    "    X = A.rvs(size= 50)\n",
    "    T = np.append(T,np.mean(X))"
   ]
  },
  {
   "cell_type": "code",
   "execution_count": 61,
   "metadata": {},
   "outputs": [
    {
     "data": {
      "text/plain": [
       "0.050199999999999995"
      ]
     },
     "execution_count": 61,
     "metadata": {},
     "output_type": "execute_result"
    }
   ],
   "source": [
    "Xbarr = np.mean(T)\n",
    "sum(T < Xbarr -.1)/10000 + sum(T>Xbarr+.1)/10000\n",
    "rejlow50 = Xbarr-.092\n",
    "rejhigh50 = Xbarr+.092\n",
    "#print (rejlow50)\n",
    "#print (rejhigh50)\n",
    "sum(T < Xbarr -.092)/10000 + sum(T>Xbarr+.092)/10000"
   ]
  },
  {
   "cell_type": "code",
   "execution_count": 63,
   "metadata": {},
   "outputs": [
    {
     "data": {
      "text/plain": [
       "0.9188"
      ]
     },
     "execution_count": 63,
     "metadata": {},
     "output_type": "execute_result"
    }
   ],
   "source": [
    "T = []\n",
    "EXP = stats.expon(scale = 1/5)\n",
    "for n in np.arange(10000):\n",
    "    A = EXP.rvs(size = 50)\n",
    "    xbar = np.mean(A)\n",
    "    T = np.append(T,xbar)\n",
    "    \n",
    "power = sum(T<rejlow50)/10000 + sum(T>rejhigh50)/10000\n",
    "power"
   ]
  },
  {
   "cell_type": "markdown",
   "metadata": {},
   "source": [
    "Note that the power nearly doubled with the increase in sample size, similar to the LRT. However, the power of the LRT was significantly higher in both cases."
   ]
  }
 ],
 "metadata": {
  "kernelspec": {
   "display_name": "Python 3",
   "language": "python",
   "name": "python3"
  },
  "language_info": {
   "codemirror_mode": {
    "name": "ipython",
    "version": 3
   },
   "file_extension": ".py",
   "mimetype": "text/x-python",
   "name": "python",
   "nbconvert_exporter": "python",
   "pygments_lexer": "ipython3",
   "version": "3.6.5"
  }
 },
 "nbformat": 4,
 "nbformat_minor": 2
}
