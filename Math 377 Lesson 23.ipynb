{
 "cells": [
  {
   "cell_type": "code",
   "execution_count": 1,
   "metadata": {},
   "outputs": [],
   "source": [
    "from datascience import *\n",
    "import numpy as np\n",
    "from math import *\n",
    "from scipy import stats\n",
    "import matplotlib.pyplot as plt\n",
    "%matplotlib inline"
   ]
  },
  {
   "cell_type": "markdown",
   "metadata": {},
   "source": [
    "## Lesson 23: Hypothesis Testing, Continued"
   ]
  },
  {
   "cell_type": "markdown",
   "metadata": {},
   "source": [
    "Recall in Lesson 22, we covered hypothesis testing. The structure of a hypothesis test is largely similar regardless of the context of the problem. We state the hypotheses, decide on a test statistic, calculate the $p$-value and reach a conclusion. To calculate a $p$-value, we need to find the distribution of the test statistic under the null hypothesis. "
   ]
  },
  {
   "cell_type": "markdown",
   "metadata": {},
   "source": [
    "### Example 1: The Lady Tasting Tea\n",
    "\n",
    "The \"lady tasting tea\" problem is a now famous story during which, at a gathering one summer afternoon in Cambridge, some friends drank tea with milk. Among them, a woman claimed to be able to tell, based on taste, whether the milk or the tea was added first to the cup. A now famous statistician, Ronald Fisher, was at the gathering, and he studied the claim. The woman was offered 8 cups of tea mixed with milk (4 with milk added first and 4 with tea added first) and she successfully identified 6 (3 of each). What can we say about her ability to discriminate the teas? "
   ]
  },
  {
   "cell_type": "markdown",
   "metadata": {},
   "source": [
    "Step 1: *Null hypothesis: the lady is not able to tell at all which is which, a random guess would have been just as accurate*\n",
    "     \n",
    "hypothesis: the lady was able to tell whether milk or tea went in first more times than not. (one sided)"
   ]
  },
  {
   "cell_type": "markdown",
   "metadata": {},
   "source": [
    "Step 2: Our statistic, X, will be the number of cups that were correctly identified out of 8. Note that this can only be an even number, but this is taken care of in our simulation."
   ]
  },
  {
   "cell_type": "markdown",
   "metadata": {},
   "source": [
    "Step 3: the p-value is the probability that she could get 6 correct out of 8 if she were just guessing.\n",
    "\n",
    "We know that there are 4 cups of tea first and 4 not, so there is a 50-50 chance that a cup is one or the other. We could use this in a hypergeometric, but we will simulate. \n",
    "\n",
    "Let's do a simulation: randomly shuffle a guess against a list of correct answers"
   ]
  },
  {
   "cell_type": "code",
   "execution_count": 2,
   "metadata": {},
   "outputs": [
    {
     "data": {
      "text/plain": [
       "0.2394"
      ]
     },
     "execution_count": 2,
     "metadata": {},
     "output_type": "execute_result"
    }
   ],
   "source": [
    "Guess = ['M', 'M', 'M', 'M','T','T','T','T']\n",
    "T = []\n",
    "\n",
    "for n in np.arange(10000):\n",
    "    T = np.append(T,sum(np.random.choice(Guess,8,replace=False)==Guess))\n",
    "\n",
    "p = sum(T == 6)/10000 + sum(T==8)/10000\n",
    "p"
   ]
  },
  {
   "cell_type": "markdown",
   "metadata": {},
   "source": [
    "Step 4: The probability that she would randomly guess 6 or more cups of tea correctly is about 24%. We fail to reject our null hypothesis because there is a significant probability that we would acquire our data if she were purely guessing."
   ]
  },
  {
   "cell_type": "markdown",
   "metadata": {},
   "source": [
    "### Example 2: iris dataset\n",
    "\n",
    "The `iris` dataset is common in introductory statistics. It shows various characteristics of three different species of irises. Let's determine whether the virginica species has a larger mean sepal width than that of versicolor. "
   ]
  },
  {
   "cell_type": "code",
   "execution_count": 3,
   "metadata": {},
   "outputs": [
    {
     "data": {
      "text/html": [
       "<table border=\"1\" class=\"dataframe\">\n",
       "    <thead>\n",
       "        <tr>\n",
       "            <th>species</th> <th>sepal_length mean</th> <th>sepal_width mean</th> <th>petal_length mean</th> <th>petal_width mean</th>\n",
       "        </tr>\n",
       "    </thead>\n",
       "    <tbody>\n",
       "        <tr>\n",
       "            <td>setosa    </td> <td>5.006            </td> <td>3.418           </td> <td>1.464            </td> <td>0.244           </td>\n",
       "        </tr>\n",
       "        <tr>\n",
       "            <td>versicolor</td> <td>5.936            </td> <td>2.77            </td> <td>4.26             </td> <td>1.326           </td>\n",
       "        </tr>\n",
       "        <tr>\n",
       "            <td>virginica </td> <td>6.588            </td> <td>2.974           </td> <td>5.552            </td> <td>2.026           </td>\n",
       "        </tr>\n",
       "    </tbody>\n",
       "</table>"
      ],
      "text/plain": [
       "species    | sepal_length mean | sepal_width mean | petal_length mean | petal_width mean\n",
       "setosa     | 5.006             | 3.418            | 1.464             | 0.244\n",
       "versicolor | 5.936             | 2.77             | 4.26              | 1.326\n",
       "virginica  | 6.588             | 2.974            | 5.552             | 2.026"
      ]
     },
     "execution_count": 3,
     "metadata": {},
     "output_type": "execute_result"
    }
   ],
   "source": [
    "iris=Table().read_table(\"iris.csv\")\n",
    "iris.group(4,np.mean)"
   ]
  },
  {
   "cell_type": "markdown",
   "metadata": {},
   "source": [
    "Step 1: Null hypothesis: The average sepal width of virginica is equal to or less than the average sepal width of versicolor.\n",
    "\n",
    "Alternative hypothesis: The average sepal width of virginica is greater than the average sepal width of versicolor."
   ]
  },
  {
   "cell_type": "markdown",
   "metadata": {},
   "source": [
    "Step 2: The test statistic will be the difference between average sepal width of the two species from our sample."
   ]
  },
  {
   "cell_type": "markdown",
   "metadata": {},
   "source": [
    "Step 3: obs is the observed value of the difference between the averages of the sepal sizes. Our p value is the probability that, given our null was true, we would observe the difference we did or larger. The greatest p value will occur when the average sepal sizes are equal.\n",
    "\n"
   ]
  },
  {
   "cell_type": "code",
   "execution_count": 4,
   "metadata": {},
   "outputs": [
    {
     "data": {
      "text/plain": [
       "0.20399999999999974"
      ]
     },
     "execution_count": 4,
     "metadata": {},
     "output_type": "execute_result"
    }
   ],
   "source": [
    "iris_sub=iris.select(4,1).where(0,are.not_containing('setosa'))\n",
    "obs=np.diff(iris_sub.group(0,np.mean).column(1))[0]\n",
    "obs #This is the mean size of virginica minus the mean size of versicolor"
   ]
  },
  {
   "cell_type": "code",
   "execution_count": 5,
   "metadata": {},
   "outputs": [
    {
     "data": {
      "text/plain": [
       "0.5021"
      ]
     },
     "execution_count": 5,
     "metadata": {},
     "output_type": "execute_result"
    }
   ],
   "source": [
    "#This is the bootstrap method, and it just shows that the average of the sample is about the average of the sample.\n",
    "\n",
    "Diff_Av = []\n",
    "\n",
    "for n in np.arange(10000):\n",
    "    virg_sam = np.random.choice(iris_sub.where(0,'virginica').column(1),len(iris_sub.where(0,'virginica').column(1)))\n",
    "    vers_sam = np.random.choice(iris_sub.where(0,'versicolor').column(1),len(iris_sub.where(0,'versicolor').column(1)))\n",
    "    Diff_Av = np.append(Diff_Av,np.mean(virg_sam)-np.mean(vers_sam))\n",
    "    \n",
    "   \n",
    "p = sum(Diff_Av>=0.204)/10000\n",
    "p"
   ]
  },
  {
   "cell_type": "code",
   "execution_count": 7,
   "metadata": {},
   "outputs": [
    {
     "name": "stderr",
     "output_type": "stream",
     "text": [
      "C:\\Users\\C20John.Wirth\\AppData\\Local\\Continuum\\anaconda3\\lib\\site-packages\\matplotlib\\axes\\_axes.py:6462: UserWarning: The 'normed' kwarg is deprecated, and has been replaced by the 'density' kwarg.\n",
      "  warnings.warn(\"The 'normed' kwarg is deprecated, and has been \"\n"
     ]
    },
    {
     "data": {
      "image/png": "[encoded data removed]",
      "text/plain": [
       "<Figure size 432x288 with 1 Axes>"
      ]
     },
     "metadata": {},
     "output_type": "display_data"
    }
   ],
   "source": [
    "Table().with_column('Diff',Diff_Av).hist() "
   ]
  },
  {
   "cell_type": "code",
   "execution_count": 10,
   "metadata": {},
   "outputs": [
    {
     "data": {
      "text/plain": [
       "0.0014"
      ]
     },
     "execution_count": 10,
     "metadata": {},
     "output_type": "execute_result"
    }
   ],
   "source": [
    "#I will retry to Bootstrap something. Our underlying assumption for the null is that there is no difference between\n",
    "#the average of the two sepal widths. So I will randomly sample from the same flower to see what the spread should be.\n",
    "\n",
    "Diff_Av = []\n",
    "\n",
    "for n in np.arange(10000):\n",
    "    virg_sam = np.random.choice(iris_sub.where(0,'virginica').column(1),len(iris_sub.where(0,'virginica').column(1)))\n",
    "    vers_sam = np.random.choice(iris_sub.where(0,'virginica').column(1),len(iris_sub.where(0,'virginica').column(1)))\n",
    "    #Since we are drawing from the virginica, our pool will have the same average size\n",
    "    Diff_Av = np.append(Diff_Av,np.mean(virg_sam)-np.mean(vers_sam))\n",
    "    \n",
    "p = sum(Diff_Av>= .2039)/10000\n",
    "p"
   ]
  },
  {
   "cell_type": "code",
   "execution_count": 11,
   "metadata": {},
   "outputs": [
    {
     "data": {
      "text/plain": [
       "0.0006"
      ]
     },
     "execution_count": 11,
     "metadata": {},
     "output_type": "execute_result"
    }
   ],
   "source": [
    "#I will now repeat the process with the versicolors average as the base average\n",
    "Diff_Av = []\n",
    "\n",
    "for n in np.arange(10000):\n",
    "    virg_sam = np.random.choice(iris_sub.where(0,'versicolor').column(1),len(iris_sub.where(0,'versicolor').column(1)))\n",
    "    vers_sam = np.random.choice(iris_sub.where(0,'versicolor').column(1),len(iris_sub.where(0,'versicolor').column(1)))\n",
    "    #Since we are drawing from the versicolor, our pool will have the same average sepal width. This allows us to see how\n",
    "    #rare it would be to get the difference we did if these flowers actually had the same average width\n",
    "    Diff_Av = np.append(Diff_Av,np.mean(virg_sam)-np.mean(vers_sam))\n",
    "    \n",
    "p = sum(Diff_Av>= .2039)/10000\n",
    "p"
   ]
  },
  {
   "cell_type": "code",
   "execution_count": 12,
   "metadata": {},
   "outputs": [
    {
     "data": {
      "text/plain": [
       "0.0"
      ]
     },
     "execution_count": 12,
     "metadata": {},
     "output_type": "execute_result"
    }
   ],
   "source": [
    "#I will now repeat the process with my 'population' as the entire sepal width column, because supposedly they both have\n",
    "#the same average,\n",
    "Diff_Av = []\n",
    "\n",
    "for n in np.arange(10000):\n",
    "    virg_sam = np.random.choice(iris_sub.column(1),len(iris_sub.column(1)))\n",
    "    vers_sam = np.random.choice(iris_sub.column(1),len(iris_sub.column(1)))\n",
    "    Diff_Av = np.append(Diff_Av,np.mean(virg_sam)-np.mean(vers_sam))\n",
    "    \n",
    "p = sum(Diff_Av>= .2039)/10000\n",
    "p\n"
   ]
  },
  {
   "cell_type": "markdown",
   "metadata": {},
   "source": [
    "Step 4: Using all the data available, no possible combination gives any p value close to 5 percent. We conclude that we must reject the null and that the average sepal width of the virginica is greater than that of the versicolor."
   ]
  },
  {
   "cell_type": "markdown",
   "metadata": {},
   "source": [
    "Documentation: C2C Coen Williams showed me how he solved this. It made me think to resample from a group which I know \n",
    "has the same average. C2C Erik van Hegewald helped me read what Coen did to solve this. \n"
   ]
  }
 ],
 "metadata": {
  "kernelspec": {
   "display_name": "Python 3",
   "language": "python",
   "name": "python3"
  },
  "language_info": {
   "codemirror_mode": {
    "name": "ipython",
    "version": 3
   },
   "file_extension": ".py",
   "mimetype": "text/x-python",
   "name": "python",
   "nbconvert_exporter": "python",
   "pygments_lexer": "ipython3",
   "version": "3.6.5"
  }
 },
 "nbformat": 4,
 "nbformat_minor": 2
}
